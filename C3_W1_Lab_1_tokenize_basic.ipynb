{
  "nbformat": 4,
  "nbformat_minor": 0,
  "metadata": {
    "colab": {
      "provenance": [],
      "authorship_tag": "ABX9TyMLdw3iB4U6TGQd3+Lh0FD4",
      "include_colab_link": true
    },
    "kernelspec": {
      "name": "python3",
      "display_name": "Python 3"
    },
    "language_info": {
      "name": "python"
    }
  },
  "cells": [
    {
      "cell_type": "markdown",
      "metadata": {
        "id": "view-in-github",
        "colab_type": "text"
      },
      "source": [
        "<a href=\"https://colab.research.google.com/github/RLWH/tensorflow-certification-labs/blob/main/C3_W1_Lab_1_tokenize_basic.ipynb\" target=\"_parent\"><img src=\"https://colab.research.google.com/assets/colab-badge.svg\" alt=\"Open In Colab\"/></a>"
      ]
    },
    {
      "cell_type": "markdown",
      "source": [
        "# Ungraded Lab: Tokenizer Basics\n",
        "In most NLP tasks, the initial step in preparing the data is to extract a vocabulary of words from the *corpus* (i.e. input texts)\n",
        "\n",
        "We will need to define how to represent the texts into numerical representaions which can be used to train a neural network. \n",
        "\n",
        "These representations are called *tokens* and Tensorflow and Keras makes it easy to generate these using its APIs. \n",
        "\n",
        "We will see how to do that in the next cells. "
      ],
      "metadata": {
        "id": "ieropZpzjNKH"
      }
    },
    {
      "cell_type": "markdown",
      "source": [
        "## Generating the vocabulary\n",
        "In this notebook, we will look first at how can provide a look up dictionary for each word. \n",
        "\n",
        "The code below takes a list of sentences, then takes each word in those sentences and assigns it to an integer. This is done using the `fit_on_texts()` method and we can get the result by looking at the `word_index` property. More frequent words have a lower index. "
      ],
      "metadata": {
        "id": "FCREbsjtk1DH"
      }
    },
    {
      "cell_type": "code",
      "execution_count": 1,
      "metadata": {
        "id": "3QiQkZoyjJMN",
        "colab": {
          "base_uri": "https://localhost:8080/"
        },
        "outputId": "7ba42c7b-cf1f-46c0-fdea-3e662d8f5cd4"
      },
      "outputs": [
        {
          "output_type": "stream",
          "name": "stdout",
          "text": [
            "{'i': 1, 'love': 2, 'my': 3, 'dog': 4, 'cat': 5}\n"
          ]
        }
      ],
      "source": [
        "from tensorflow.keras.preprocessing.text import Tokenizer\n",
        "\n",
        "# Define input sentences\n",
        "sentences = [\n",
        "    \"i love my dog\",\n",
        "    \"I, love my cat\"\n",
        "]\n",
        "\n",
        "# Initialize the Tokenizer class\n",
        "tokenizer = Tokenizer(num_words=100)\n",
        "\n",
        "# Generate indices for each word in the corpus\n",
        "tokenizer.fit_on_texts(sentences)\n",
        "\n",
        "# Get the indices and print it\n",
        "word_index = tokenizer.word_index\n",
        "print(word_index)"
      ]
    },
    {
      "cell_type": "markdown",
      "source": [
        "The `num_words` parameter used in the initializer specifies the maximum number of words minus one (based on frequency) to keep when generating sequences. We will see this in a later exercise. \n",
        "\n",
        "**For now, the important thing to note is it does not affect how the `word_index` dictionary is generated. We can try passing `1` instead of `100` as shown on the next cell, and we will arrive at the same `word_index`**"
      ],
      "metadata": {
        "id": "IrZoVjEGl9O0"
      }
    },
    {
      "cell_type": "code",
      "source": [
        "# Define input sentences\n",
        "sentences = [\n",
        "    'i love my dog',\n",
        "    'I, love my cat',\n",
        "    'You love my dog!'\n",
        "]\n",
        "\n",
        "# Initialize the Tokenizer class\n",
        "tokenizer = Tokenizer(num_words = 1)\n",
        "\n",
        "# Generate indices for each word in the corpus\n",
        "tokenizer.fit_on_texts(sentences)\n",
        "\n",
        "# Get the indices and print it\n",
        "word_index = tokenizer.word_index\n",
        "print(word_index)"
      ],
      "metadata": {
        "colab": {
          "base_uri": "https://localhost:8080/"
        },
        "id": "oJ0hkkZ5l7W1",
        "outputId": "6ed16112-d86e-43c5-e65c-d25d11043b29"
      },
      "execution_count": 2,
      "outputs": [
        {
          "output_type": "stream",
          "name": "stdout",
          "text": [
            "{'love': 1, 'my': 2, 'i': 3, 'dog': 4, 'cat': 5, 'you': 6}\n"
          ]
        }
      ]
    },
    {
      "cell_type": "markdown",
      "source": [
        "Also notice that by default, all punctuation is ignored and words are converted to lower case. We can override these behaviours by modifying `filters` and `lower` arguments of the `Tokenizer` class as described [here](https://www.tensorflow.org/api_docs/python/tf/keras/preprocessing/text/Tokenizer#arguments). \n",
        "\n",
        "We can try modifying these in the next cell below and compare the output to the one generated above"
      ],
      "metadata": {
        "id": "2cBgeW2ZmyZr"
      }
    },
    {
      "cell_type": "code",
      "source": [],
      "metadata": {
        "id": "Af7C_60KsnDG"
      },
      "execution_count": null,
      "outputs": []
    }
  ]
}