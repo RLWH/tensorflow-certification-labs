{
  "nbformat": 4,
  "nbformat_minor": 0,
  "metadata": {
    "colab": {
      "provenance": [],
      "collapsed_sections": [],
      "authorship_tag": "ABX9TyNuLfQ6621LNYRvq3oRsDRG",
      "include_colab_link": true
    },
    "kernelspec": {
      "name": "python3",
      "display_name": "Python 3"
    },
    "language_info": {
      "name": "python"
    }
  },
  "cells": [
    {
      "cell_type": "markdown",
      "metadata": {
        "id": "view-in-github",
        "colab_type": "text"
      },
      "source": [
        "<a href=\"https://colab.research.google.com/github/RLWH/tensorflow-certification-labs/blob/main/C1_W2_Lab_2_callbacks.ipynb\" target=\"_parent\"><img src=\"https://colab.research.google.com/assets/colab-badge.svg\" alt=\"Open In Colab\"/></a>"
      ]
    },
    {
      "cell_type": "markdown",
      "source": [
        "# Ungraded Lab: Using Callbacks to control training\n",
        "In this lab, we will use the [Callbacks API](https://keras.io/api/callbacks/) to stop training when a specified metric is met. \n",
        "\n",
        "This is a useful feature so we won't need to complete all epochs when this threshold is reached. \n",
        "\n",
        "For example, if we set 1000 epochs and our desired accuracy is already reached at epoch 200, then the training will automatically stop. "
      ],
      "metadata": {
        "id": "CWBpb-upcdAp"
      }
    },
    {
      "cell_type": "markdown",
      "source": [
        "# Load an normalise the Fashion MNIST dataset\n",
        "Like the previous lab, we will use Fashion MNIST dataset for this exercise. \n",
        "\n",
        "We will normailse the pixel values to help optimising the training"
      ],
      "metadata": {
        "id": "qnQ7jnkccyFQ"
      }
    },
    {
      "cell_type": "code",
      "execution_count": 1,
      "metadata": {
        "id": "7PWOVh5IcPUV"
      },
      "outputs": [],
      "source": [
        "import tensorflow as tf"
      ]
    },
    {
      "cell_type": "code",
      "source": [
        "# Use the fmnist dataset\n",
        "fmnist = tf.keras.datasets.fashion_mnist\n",
        "\n",
        "# Load the dataset\n",
        "(x_train, y_train), (x_test, y_test) = fmnist.load_data()\n",
        "\n",
        "# Normalise the pixel values\n",
        "x_train, x_test = x_train/255.0, x_test/255.0"
      ],
      "metadata": {
        "colab": {
          "base_uri": "https://localhost:8080/"
        },
        "id": "CsYEDGopdYg7",
        "outputId": "4a497476-4194-4e6a-a5cb-b3b2cd637e5a"
      },
      "execution_count": 2,
      "outputs": [
        {
          "output_type": "stream",
          "name": "stdout",
          "text": [
            "Downloading data from https://storage.googleapis.com/tensorflow/tf-keras-datasets/train-labels-idx1-ubyte.gz\n",
            "29515/29515 [==============================] - 0s 0us/step\n",
            "Downloading data from https://storage.googleapis.com/tensorflow/tf-keras-datasets/train-images-idx3-ubyte.gz\n",
            "26421880/26421880 [==============================] - 0s 0us/step\n",
            "Downloading data from https://storage.googleapis.com/tensorflow/tf-keras-datasets/t10k-labels-idx1-ubyte.gz\n",
            "5148/5148 [==============================] - 0s 0us/step\n",
            "Downloading data from https://storage.googleapis.com/tensorflow/tf-keras-datasets/t10k-images-idx3-ubyte.gz\n",
            "4422102/4422102 [==============================] - 0s 0us/step\n"
          ]
        }
      ]
    },
    {
      "cell_type": "markdown",
      "source": [
        "# Creating a Callback class\n",
        "\n",
        "You can create a callback by defining a class that inherits the [tf.keras.callbacks.Callback](https://www.tensorflow.org/api_docs/python/tf/keras/callbacks/Callback) base class. From there, you can define available methods to set where the callback will be executed. \n",
        "\n",
        "For instance below, you will use the [on_epoch_end()](https://www.tensorflow.org/api_docs/python/tf/keras/callbacks/Callback#on_epoch_end) method to check the loss at each training epoch."
      ],
      "metadata": {
        "id": "R-iOxkKsdnyg"
      }
    },
    {
      "cell_type": "code",
      "source": [
        "class myCallback(tf.keras.callbacks.Callback):\n",
        "    def on_epoch_end(self, epoch, logs={}):\n",
        "        \"\"\"\n",
        "        Halts the training after reaching 60% accuracy\n",
        "\n",
        "        Args:\n",
        "            epoch (integer): index of epoch (required by unused in the function)\n",
        "            logs (dict): Metric results from the training epoch\n",
        "        \"\"\"\n",
        "\n",
        "        # Check accuracy\n",
        "        if (logs.get('accuracy') >= 0.6):\n",
        "\n",
        "            # Stop if threshold is met\n",
        "            print(\"\\nAccuracy is over 0.6 so cancelling training!\")\n",
        "            self.model.stop_training = True\n",
        "\n",
        "# Instantiate class\n",
        "callbacks = myCallback()"
      ],
      "metadata": {
        "id": "4zbASbcsdmlK"
      },
      "execution_count": 3,
      "outputs": []
    },
    {
      "cell_type": "markdown",
      "source": [
        "## Define and compile the model\n",
        "Then, we will define and compile the model. \n",
        "The architecture will be similar to the one we built in previous lab. \n",
        "\n",
        "Afterwards, we wil set the optimiser, loss, and metrics that we wil use for training. "
      ],
      "metadata": {
        "id": "bpsoW_LQf2EJ"
      }
    },
    {
      "cell_type": "code",
      "source": [
        "# Define the model\n",
        "model = tf.keras.models.Sequential([\n",
        "    tf.keras.layers.Flatten(input_shape=(28, 28)),\n",
        "    tf.keras.layers.Dense(512, activation=tf.nn.relu),\n",
        "    tf.keras.layers.Dense(10, activation=tf.nn.softmax)\n",
        "])\n",
        "\n",
        "# Compile the model\n",
        "model.compile(\n",
        "    optimizer=tf.optimizers.Adam(),\n",
        "    loss='sparse_categorical_crossentropy',\n",
        "    metrics=['accuracy']\n",
        ")"
      ],
      "metadata": {
        "id": "vKKLe0BVfwH9"
      },
      "execution_count": 4,
      "outputs": []
    },
    {
      "cell_type": "markdown",
      "source": [
        "## Train the model\n",
        "Now, we are ready to train the mode. \n",
        "\n",
        "The set the callback, simply set the `callbacks` paramter to the myCallback instance that we declare before. "
      ],
      "metadata": {
        "id": "z7sAHmt3gQ7Y"
      }
    },
    {
      "cell_type": "code",
      "source": [
        "model.fit(x_train, y_train, epochs=10, callbacks=[callbacks])"
      ],
      "metadata": {
        "colab": {
          "base_uri": "https://localhost:8080/"
        },
        "id": "Vuly2WmmgQRS",
        "outputId": "81f82c86-1306-4041-f6b0-b3393c8575a0"
      },
      "execution_count": 5,
      "outputs": [
        {
          "output_type": "stream",
          "name": "stdout",
          "text": [
            "Epoch 1/10\n",
            "1867/1875 [============================>.] - ETA: 0s - loss: 0.4757 - accuracy: 0.8304\n",
            "Accuracy is over 0.6 so cancelling training!\n",
            "1875/1875 [==============================] - 11s 5ms/step - loss: 0.4761 - accuracy: 0.8302\n"
          ]
        },
        {
          "output_type": "execute_result",
          "data": {
            "text/plain": [
              "<keras.callbacks.History at 0x7f53a8d5a8d0>"
            ]
          },
          "metadata": {},
          "execution_count": 5
        }
      ]
    },
    {
      "cell_type": "markdown",
      "source": [],
      "metadata": {
        "id": "0MniThZqgoZp"
      }
    },
    {
      "cell_type": "code",
      "source": [],
      "metadata": {
        "id": "5A90dfUmgboW"
      },
      "execution_count": null,
      "outputs": []
    }
  ]
}